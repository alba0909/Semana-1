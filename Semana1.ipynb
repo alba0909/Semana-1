{
  "nbformat": 4,
  "nbformat_minor": 0,
  "metadata": {
    "colab": {
      "provenance": [],
      "authorship_tag": "ABX9TyNYwpo2UJ2GH94EIO72KyYK",
      "include_colab_link": true
    },
    "kernelspec": {
      "name": "python3",
      "display_name": "Python 3"
    },
    "language_info": {
      "name": "python"
    }
  },
  "cells": [
    {
      "cell_type": "markdown",
      "metadata": {
        "id": "view-in-github",
        "colab_type": "text"
      },
      "source": [
        "<a href=\"https://colab.research.google.com/github/alba0909/Semana-1/blob/main/Semana1.ipynb\" target=\"_parent\"><img src=\"https://colab.research.google.com/assets/colab-badge.svg\" alt=\"Open In Colab\"/></a>"
      ]
    },
    {
      "cell_type": "code",
      "execution_count": null,
      "metadata": {
        "colab": {
          "base_uri": "https://localhost:8080/"
        },
        "id": "-aY0Akd68Z3y",
        "outputId": "9f4b6ee7-f9bb-40b1-ec40-117cf863c483"
      },
      "outputs": [
        {
          "output_type": "stream",
          "name": "stdout",
          "text": [
            "Datos del Estudiante:\n",
            "Nombre: Alba\n",
            "Edad: 19 años\n"
          ]
        }
      ],
      "source": [
        "#1. Variables y tipos de datos\n",
        "nombre_estudiante = \"Alba\"\n",
        "edad = 19\n",
        "promedio = 4.2\n",
        "es_regular = True\n",
        "#2. La función print () para mostrar información\n",
        "print (\"Datos del Estudiante:\")\n",
        "print (\"Nombre:\", nombre_estudiante)\n",
        "print (f\"Edad: {edad} años\") #Usando f-strings, una forma moderna y útil\n",
        "#3. La función input () para recibir datos del usuario\n",
        "asignatura_favorita = input (\"¿Cual es tu asignatura favorita?\")\n",
        "print (f\" ¡Que bien! Tu asignatura favorita es {asignatura_favorita}.\")"
      ]
    }
  ]
}